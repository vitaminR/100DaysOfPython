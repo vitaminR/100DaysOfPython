{
 "cells": [
  {
   "cell_type": "code",
   "execution_count": 1,
   "metadata": {},
   "outputs": [
    {
     "ename": "ModuleNotFoundError",
     "evalue": "No module named 'prettytable'",
     "output_type": "error",
     "traceback": [
      "\u001b[1;31m---------------------------------------------------------------------------\u001b[0m",
      "\u001b[1;31mModuleNotFoundError\u001b[0m                       Traceback (most recent call last)",
      "Cell \u001b[1;32mIn[1], line 1\u001b[0m\n\u001b[1;32m----> 1\u001b[0m \u001b[38;5;28;01mfrom\u001b[39;00m \u001b[38;5;21;01mprettytable\u001b[39;00m \u001b[38;5;28;01mimport\u001b[39;00m PrettyTable\n\u001b[0;32m      2\u001b[0m \u001b[38;5;28;01mfrom\u001b[39;00m \u001b[38;5;21;01mturtle\u001b[39;00m \u001b[38;5;28;01mimport\u001b[39;00m Screen, Turtle\n\u001b[0;32m      4\u001b[0m \u001b[38;5;66;03m# Create a turtle\u001b[39;00m\n",
      "\u001b[1;31mModuleNotFoundError\u001b[0m: No module named 'prettytable'"
     ]
    }
   ],
   "source": [
    "from prettytable import PrettyTable\n",
    "from turtle import Screen, Turtle\n",
    "\n",
    "# Create a turtle\n",
    "tim = Turtle()\n",
    "tim.shape(\"turtle\")\n",
    "tim.color(\"DarkSeaGreen4\")\n",
    "\n",
    "# Create a screen\n",
    "my_screen = Screen()\n",
    "my_screen.setup(width=800, height=600)\n",
    "my_screen.setworldcoordinates(-400, -300, 400, 300)\n",
    "\n",
    "# Create a PrettyTable object\n",
    "table = PrettyTable()\n",
    "\n",
    "# Ask the user for the number of fields (columns)\n",
    "num_fields = int(input(\"Enter the number of fields: \"))\n",
    "\n",
    "# Add fields\n",
    "for i in range(num_fields):\n",
    "    field_name = input(f\"Enter the name for field {i+1}: \")\n",
    "    table.field_names.append(field_name)\n",
    "\n",
    "# Ask the user for the number of rows\n",
    "num_rows = int(input(\"Enter the number of rows: \"))\n",
    "\n",
    "# Add rows\n",
    "for i in range(num_rows):\n",
    "    row = []\n",
    "    for j in range(num_fields):\n",
    "        value = input(f\"Enter the value for cell ({i+1}, {j+1}): \")\n",
    "        row.append(value)\n",
    "    table.add_row(row)\n",
    "\n",
    "# Print the table\n",
    "print(table)\n",
    "\n",
    "# Create a target\n",
    "target = Turtle()\n",
    "target.shape(\"circle\")\n",
    "target.color(\"red\")\n",
    "target.penup()\n",
    "target.speed(\"fastest\")\n",
    "target.goto(random.randint(-300, 300), random.randint(-200, 200))\n",
    "\n",
    "# Define a function to move the target\n",
    "def move_target(x, y):\n",
    "    target.goto(x, y)\n",
    "\n",
    "# Bind the move_target function to the screen\n",
    "my_screen.onclick(move_target)\n",
    "\n",
    "# Define a function to move the turtle towards the target\n",
    "def move_turtle():\n",
    "    tim.setheading(tim.towards(target))\n",
    "    tim.forward(2)\n",
    "\n",
    "    # Check if the turtle has reached the target\n",
    "    if tim.distance(target) < 20:\n",
    "        my_screen.bye()  # End the game\n",
    "    else:\n",
    "        my_screen.ontimer(move_turtle, 10)  # Move the turtle again after 10 ms\n",
    "\n",
    "# Start moving the turtle\n",
    "move_turtle()\n",
    "\n",
    "# Start the main loop to listen for clicks\n",
    "my_screen.mainloop()"
   ]
  }
 ],
 "metadata": {
  "kernelspec": {
   "display_name": "Python 3",
   "language": "python",
   "name": "python3"
  },
  "language_info": {
   "codemirror_mode": {
    "name": "ipython",
    "version": 3
   },
   "file_extension": ".py",
   "mimetype": "text/x-python",
   "name": "python",
   "nbconvert_exporter": "python",
   "pygments_lexer": "ipython3",
   "version": "3.12.0"
  }
 },
 "nbformat": 4,
 "nbformat_minor": 2
}
