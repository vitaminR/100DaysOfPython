{
 "cells": [
  {
   "cell_type": "markdown",
   "metadata": {},
   "source": [
    "Functions with Outputs\n",
    "\n"
   ]
  },
  {
   "cell_type": "code",
   "execution_count": 3,
   "metadata": {},
   "outputs": [
    {
     "name": "stdout",
     "output_type": "stream",
     "text": [
      "Hello Johnathon Aaron!\n"
     ]
    }
   ],
   "source": [
    "#Functions with Outputs\n",
    "\n",
    "fn = input(\"whats your first name? \\n:\")\n",
    "ln = input(\"whats your last name? \\n:\")\n",
    "\n",
    "def format_name(f_name,l_name):\n",
    "    f_f_name = f_name.title()\n",
    "    f_l_name = l_name.title()\n",
    "    return(f\"Hello {f_f_name} {f_l_name}!\")\n",
    "   \n",
    "\n",
    "\n",
    "print(format_name(f_name = fn,l_name = ln))"
   ]
  },
  {
   "cell_type": "code",
   "execution_count": 5,
   "metadata": {},
   "outputs": [
    {
     "name": "stdout",
     "output_type": "stream",
     "text": [
      "29\n"
     ]
    }
   ],
   "source": [
    "def is_leap(year):\n",
    "  if year % 4 == 0:\n",
    "    if year % 100 == 0:\n",
    "      if year % 400 == 0:\n",
    "        return True\n",
    "      else:\n",
    "        return False\n",
    "    else:\n",
    "      return True\n",
    "  else:\n",
    "    return False\n",
    "  \n",
    "# TODO: Add more code here 👇\n",
    "def days_in_month(year, month):\n",
    "  month_days = [31, 28, 31, 30, 31, 30, 31, 31, 30, 31, 30, 31] \n",
    "  if is_leap(year):\n",
    "    if month == 2:\n",
    "      return month_days[month -1] + 1\n",
    "    else:\n",
    "      return month_days[month -1]\n",
    "  else:\n",
    "    return month_days[month -1]\n",
    "\n",
    "\n",
    "print(days_in_month(year=2024, month=2))\n",
    "  \n",
    "#🚨 Do NOT change any of the code below \n",
    "#year = int(input()) # Enter a year\n",
    "#month = int(input()) # Enter a month\n",
    "#days = days_in_month(year, month)\n",
    "#print(days)\n",
    "\n"
   ]
  },
  {
   "cell_type": "code",
   "execution_count": 17,
   "metadata": {},
   "outputs": [
    {
     "name": "stdout",
     "output_type": "stream",
     "text": [
      "********************************************\n",
      "+\n",
      "-\n",
      "*\n",
      "/\n",
      "********************************************\n",
      "4 + 5 = 9.0\n",
      "********************************************\n",
      "9.0 * 9 = 81.0\n",
      "81.0 + 9 = 90.0\n"
     ]
    }
   ],
   "source": [
    "#Calculator\n",
    "\n",
    "\n",
    "def calculator():\n",
    "    def add(a,b):\n",
    "        '''\n",
    "        Combines two numbers, a and b, then returns the sum as a float.\n",
    "        '''\n",
    "        return float(a + b)\n",
    "\n",
    "    def subtract(a,b):\n",
    "        '''\n",
    "        rremoves amount b from a, then returns the sum as a float.\n",
    "        '''\n",
    "        return float(a - b)\n",
    "    \n",
    "    def multiply(a,b):\n",
    "        '''\n",
    "        gets product of a x b, then returns the sum as a float.\n",
    "        '''\n",
    "        return float(a * b)\n",
    "\n",
    "    def divide(a,b):\n",
    "        '''\n",
    "        gets quotent of a / b, then returns the sum as a float.\n",
    "        '''\n",
    "        return float(a / b)\n",
    "\n",
    "    operations = {\n",
    "        \"+\": add,\n",
    "        \"-\": subtract,\n",
    "        \"*\": multiply,\n",
    "        \"/\": divide,\n",
    "    }\n",
    "\n",
    "\n",
    "\n",
    "    num1 = int(input(\"What's the first number\"))\n",
    "    num2 = int(input(\"What's the next number\"))\n",
    "    print(\"********************************************\")\n",
    "    for sym in operations:\n",
    "        print(sym)\n",
    "    print(\"********************************************\")\n",
    "    op_sym = input(\"pick an operation from the list above\")\n",
    "\n",
    "    answer = (operations[op_sym](num1,num2))\n",
    "\n",
    "    print(f\"{num1} {op_sym} {num2} = {answer}\")\n",
    "\n",
    "    print(\"********************************************\")\n",
    "\n",
    "    should_continue = input(f\"Do you want to do another calculation with {answer}?\\n y/n:\")\n",
    "    while input() == \"y\":\n",
    "        op_sym = input(\"pick another operation: \\n\")\n",
    "        num3 = int(input(\"What number do you want to add to this calculation\"))\n",
    "        calc_function = operations[op_sym]\n",
    "        next_answer = calc_function(answer,num3)\n",
    "        print(f\"{answer} {op_sym} {num3} = {next_answer}\")\n",
    "        answer = next_answer\n",
    "    if should_continue == \"n\":\n",
    "        print(\"starting a new session\")\n",
    "        calculator()\n",
    "        \n",
    "calculator()    \n",
    "    "
   ]
  }
 ],
 "metadata": {
  "kernelspec": {
   "display_name": "Python 3",
   "language": "python",
   "name": "python3"
  },
  "language_info": {
   "codemirror_mode": {
    "name": "ipython",
    "version": 3
   },
   "file_extension": ".py",
   "mimetype": "text/x-python",
   "name": "python",
   "nbconvert_exporter": "python",
   "pygments_lexer": "ipython3",
   "version": "3.12.0"
  }
 },
 "nbformat": 4,
 "nbformat_minor": 2
}
