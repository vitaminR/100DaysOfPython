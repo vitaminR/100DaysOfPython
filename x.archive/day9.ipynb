{
 "cells": [
  {
   "cell_type": "markdown",
   "metadata": {},
   "source": [
    "Dictionarys and such"
   ]
  },
  {
   "cell_type": "code",
   "execution_count": 1,
   "metadata": {},
   "outputs": [
    {
     "name": "stdout",
     "output_type": "stream",
     "text": [
      "{'Harry': 'Exceeds Expectations', 'Ron': 'Acceptable', 'Hermione': 'Outstanding', 'Draco': 'Acceptable', 'Neville': 'fail'}\n"
     ]
    }
   ],
   "source": [
    "student_scores = {\n",
    "  \"Harry\": 81,\n",
    "  \"Ron\": 78,\n",
    "  \"Hermione\": 99, \n",
    "  \"Draco\": 74,\n",
    "  \"Neville\": 62,\n",
    "}\n",
    "\n",
    "student_grades = {}\n",
    "\n",
    "for key in student_scores: \n",
    "  score = int(student_scores[key])\n",
    "  if score <= 71:\n",
    "    student_grades[key] = \"fail\"\n",
    "  elif score <= 80:\n",
    "    student_grades[key] = \"Acceptable\"\n",
    "  elif score <= 90:\n",
    "    student_grades[key] = \"Exceeds Expectations\"\n",
    "  elif score > 90:\n",
    "    student_grades[key] = \"Outstanding\"\n",
    "\n",
    "print(student_grades)"
   ]
  },
  {
   "cell_type": "markdown",
   "metadata": {},
   "source": []
  },
  {
   "cell_type": "code",
   "execution_count": 2,
   "metadata": {},
   "outputs": [],
   "source": [
    "places_visited = {\n",
    "    \"France\": {\n",
    "        \"cities_visited\": {\n",
    "            \"Paris\": {\n",
    "                \"lables\": [\"Eiffel Tower\", \"Louvre\", \"Arc de Triomphe\"],\n",
    "                \"trips\": 1\n",
    "            },\n",
    "            \"Lille\": {\n",
    "                \"trips\": 1\n",
    "            },\n",
    "            \"Dijon\": {\n",
    "                \"trips\": 1\n",
    "            }\n",
    "        }\n",
    "    },\n",
    "    \"Germany\": {\n",
    "        \"cities\": [\"Berlin\", \"Hamburg\", \"Stuttgart\"],\n",
    "    }\n",
    "}\n",
    "\n",
    "        \n"
   ]
  },
  {
   "cell_type": "markdown",
   "metadata": {},
   "source": [
    "Travl log"
   ]
  },
  {
   "cell_type": "code",
   "execution_count": 3,
   "metadata": {},
   "outputs": [
    {
     "name": "stdout",
     "output_type": "stream",
     "text": [
      "I've been to Brazil 2 times.\n",
      "My favourite city was Sao Paulo.\n"
     ]
    }
   ],
   "source": [
    "country = \"Brazil\" # Add country name\n",
    "visits = 2 # Number of visits\n",
    "list_of_cities = [\"Sao Paulo\", \"Rio de Janeiro\"] # create list from formatted string\n",
    "\n",
    "travel_log = [\n",
    "  {\n",
    "    \"country\": \"France\",\n",
    "    \"visits\": 12,\n",
    "    \"cities\": [\"Paris\", \"Lille\", \"Dijon\"]\n",
    "  },\n",
    "  {\n",
    "    \"country\": \"Germany\",\n",
    "    \"visits\": 5,\n",
    "    \"cities\": [\"Berlin\", \"Hamburg\", \"Stuttgart\"]\n",
    "  },\n",
    "]\n",
    "# Do NOT change the code above 👆\n",
    "\n",
    "# TODO: Write the function that will allow new countries\n",
    "# to be added to the travel_log. \n",
    "def add_new_country(country, visits, list_of_cities):\n",
    "  new_country = {\n",
    "      \"country\": country,\n",
    "       \"visits\": visits,\n",
    "       \"cities\": list_of_cities\n",
    "  }\n",
    "  travel_log.append(new_country)\n",
    "\n",
    "# Do not change the code below 👇\n",
    "add_new_country(country, visits, list_of_cities)\n",
    "print(f\"I've been to {travel_log[2]['country']} {travel_log[2]['visits']} times.\")\n",
    "print(f\"My favourite city was {travel_log[2]['cities'][0]}.\")\n"
   ]
  },
  {
   "cell_type": "code",
   "execution_count": 2,
   "metadata": {},
   "outputs": [],
   "source": [
    "logo = r'''\n",
    "                         ___________\n",
    "                         \\         /\n",
    "                          )_______(\n",
    "                          |\"\"\"\"\"\"\"|_.-._,.---------.,_.-._\n",
    "                          |       | | |               | | ''-.\n",
    "                          |       |_| |_             _| |_..-'\n",
    "                          |_______| '-' `'---------'` '-'\n",
    "                          )\"\"\"\"\"\"\"(\n",
    "                         /_________\\\\\n",
    "                       .-------------.\n",
    "                      /_______________\\\\\n",
    "'''"
   ]
  },
  {
   "cell_type": "code",
   "execution_count": 1,
   "metadata": {},
   "outputs": [
    {
     "ename": "",
     "evalue": "",
     "output_type": "error",
     "traceback": [
      "\u001b[1;31mThe Kernel crashed while executing code in the the current cell or a previous cell. Please review the code in the cell(s) to identify a possible cause of the failure. Click <a href='https://aka.ms/vscodeJupyterKernelCrash'>here</a> for more info. View Jupyter <a href='command:jupyter.viewOutput'>log</a> for further details."
     ]
    }
   ],
   "source": [
    "\n",
    "####Blind Bidding\n",
    "# clear_output()\n",
    "\n",
    "\n",
    "#print(logo)\n",
    "\n",
    "def add_new_bid(name, bid, blinds):\n",
    "    new_blind = {\n",
    "      \"name\": name,\n",
    "      \"bid\": int(bid)\n",
    "    }\n",
    "    blinds.append(new_blind)\n",
    "    return blinds\n",
    "\n",
    "blinds = []\n",
    "bidding_finished = False\n",
    "\n",
    "while not bidding_finished:\n",
    "    name = input(\"What is your name?\\n:\")  \n",
    "    bid = input(\"what is your bid\\n:\")  \n",
    "    blinds = add_new_bid(name, bid, blinds)\n",
    "\n",
    "    while True:\n",
    "        addBidder = input(\"are there any other bidders: y/n? \\n:\").lower()\n",
    "        if addBidder in [\"y\", \"n\"]:\n",
    "            break\n",
    "        else:\n",
    "            print(\"Invalid input. Please enter 'y' or 'n'.\")\n",
    "\n",
    "    if addBidder == \"n\":\n",
    "        bidding_finished = True\n",
    "\n",
    "    winner = \"\"\n",
    "    win_bid = 0\n",
    "    for bidder in blinds:\n",
    "        if bidder['bid'] > win_bid:\n",
    "            win_bid = bidder['bid']\n",
    "            winner = bidder['name']\n",
    "\n",
    "    if addBidder == \"y\":\n",
    "        print(\"continuing\")\n",
    "    else:\n",
    "        print(f\"And the highest bidder is: {winner} with ${win_bid}\")\n"
   ]
  }
 ],
 "metadata": {
  "kernelspec": {
   "display_name": "Python 3",
   "language": "python",
   "name": "python3"
  },
  "language_info": {
   "codemirror_mode": {
    "name": "ipython",
    "version": 3
   },
   "file_extension": ".py",
   "mimetype": "text/x-python",
   "name": "python",
   "nbconvert_exporter": "python",
   "pygments_lexer": "ipython3",
   "version": "3.12.0"
  }
 },
 "nbformat": 4,
 "nbformat_minor": 2
}
