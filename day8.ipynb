{
 "cells": [
  {
   "cell_type": "code",
   "execution_count": 1,
   "metadata": {},
   "outputs": [
    {
     "name": "stdout",
     "output_type": "stream",
     "text": [
      "13 is a prime\n"
     ]
    }
   ],
   "source": [
    "# Write your code below this line 👇\n",
    "\n",
    "\n",
    "def prime_checker(number):\n",
    "  isPrime = True\n",
    "  for i in range(2,number):\n",
    "    if number % i == 0:\n",
    "      isPrime = False\n",
    "      break\n",
    "  if isPrime and number > 1:  \n",
    "      print(f\"{number} is a prime\")\n",
    "  else:\n",
    "      print(f\"{number} is not a prime\")\n",
    "      \n",
    "# Write your code above this line 👆\n",
    "    \n",
    "#Do NOT change any of the code below👇\n",
    "#n = int(input()) # Check this number\n",
    "n = 13\n",
    "prime_checker(number=n)"
   ]
  },
  {
   "cell_type": "markdown",
   "metadata": {},
   "source": [
    "Creating a Caesar cipher to encode and decode a message:"
   ]
  },
  {
   "cell_type": "code",
   "execution_count": 1,
   "metadata": {},
   "outputs": [],
   "source": [
    "alphabet = ['a', 'b', 'c', 'd', 'e', 'f', 'g', 'h', 'i', 'j', 'k', 'l', 'm', 'n', 'o', 'p', 'q', 'r', 's', 't', 'u', 'v', 'w', 'x', 'y', 'z']\n",
    "\n",
    "direction = input(\"Type 'encode' to encrypt, type 'decode' to decrypt:\\n\")\n",
    "text = input(\"Type your message:\\n\").lower()\n",
    "shift = int(input(\"Type the shift number:\\n\"))\n",
    "\n",
    "#TODO-1: Create a function called 'encrypt' that takes the 'text' and 'shift' as inputs.\n",
    "\n",
    "    #TODO-2: Inside the 'encrypt' function, shift each letter of the 'text' forwards in the alphabet by the shift amount and print the encrypted text.  \n",
    "    #e.g. \n",
    "    #plain_text = \"hello\"\n",
    "    #shift = 5\n",
    "    #cipher_text = \"mjqqt\"\n",
    "    #print output: \"The encoded text is mjqqt\"\n",
    "\n",
    "    ##HINT: How do you get the index of an item in a list:\n",
    "    #https://stackoverflow.com/questions/176918/finding-the-index-of-an-item-in-a-list\n",
    "\n",
    "    ##🐛Bug alert: What happens if you try to encode the word 'civilization'?🐛\n",
    "\n",
    "#TODO-3: Call the encrypt function and pass in the user inputs. You should be able to test the code and encrypt a message. \n",
    "\n",
    "\n",
    "def encrypt(text, shift):\n",
    "  cipher_text =[] \n",
    "  for letter in text:\n",
    "    if letter in alphabet:\n",
    "        index = alphabet.index(letter)\n",
    "        print(f\"encrypting letter {letter} at {index}\")\n",
    "        shifted_index = (index + shift) % 26\n",
    "        print(f\"done with letter {letter} at {shifted_index}\")\n",
    "        cipher_text.append(alphabet[shifted_index])\n",
    "    else:\n",
    "        cipher_text.append(letter)\n",
    "  print(\"here you go:\", ''.join(cipher_text))\n",
    "def decode(text, shift):\n",
    "  plain_text =[]\n",
    "  for letter in text:\n",
    "    if letter in alphabet:\n",
    "        index = alphabet.index(letter)\n",
    "        print(index)\n",
    "        unShifted_index = (index - shift) % 26\n",
    "        print(unShifted_index)\n",
    "        plain_text.append(alphabet[unShifted_index])\n",
    "    else:\n",
    "        plain_text.append(letter)\n",
    "  print(\"here you go:\", ''.join(plain_text))\n",
    "\n",
    "if direction == \"encode\":\n",
    "  encrypt(text, shift)\n",
    "else:\n",
    "  decode(text, shift)"
   ]
  },
  {
   "cell_type": "markdown",
   "metadata": {},
   "source": [
    "and then clean it up:"
   ]
  },
  {
   "cell_type": "code",
   "execution_count": null,
   "metadata": {},
   "outputs": [],
   "source": [
    "alphabet = ['a', 'b', 'c', 'd', 'e', 'f', 'g', 'h', 'i', 'j', 'k', 'l', 'm', 'n', 'o', 'p', 'q', 'r', 's', 't', 'u', 'v', 'w', 'x', 'y', 'z', 'a', 'b', 'c', 'd', 'e', 'f', 'g', 'h', 'i', 'j', 'k', 'l', 'm', 'n', 'o', 'p', 'q', 'r', 's', 't', 'u', 'v', 'w', 'x', 'y', 'z']\n",
    "\n",
    "direction = input(\"Type 'encode' to encrypt, type 'decode' to decrypt:\\n\")\n",
    "text = input(\"Type your message:\\n\").lower()\n",
    "shift = int(input(\"Type the shift number:\\n\"))\n",
    "\n",
    "#TODO-1: Combine the encrypt() and decrypt() functions into a single function called caesar(). \n",
    "\n",
    "\n",
    "def caesar(direction, text, shift):\n",
    "  translated_text =[] \n",
    "  \n",
    "  for letter in text:\n",
    "    if letter in alphabet:\n",
    "      index = alphabet.index(letter)\n",
    "      if direction == \"encode\": \n",
    "        print(f\"encrypting letter {letter} at {index}\")\n",
    "        shifted_index = (index + shift) % 26\n",
    "        print(f\"done with letter {letter} at {shifted_index}\")\n",
    "        translated_text.append(alphabet[shifted_index])\n",
    "      else:\n",
    "        shifted_index = (index - shift) % 26\n",
    "        print(shifted_index)\n",
    "        translated_text.append(alphabet[shifted_index])\n",
    "    else:\n",
    "        translated_text.append(letter)\n",
    "  print(\"here you go:\", ''.join(translated_text))\n",
    "\n",
    "\n",
    "\n",
    "\n",
    "#TODO-2: Call the caesar() function, passing over the 'text', 'shift' and 'direction' values.\n",
    "\n",
    "caesar(direction, text, shift)"
   ]
  }
 ],
 "metadata": {
  "kernelspec": {
   "display_name": "Python 3",
   "language": "python",
   "name": "python3"
  },
  "language_info": {
   "codemirror_mode": {
    "name": "ipython",
    "version": 3
   },
   "file_extension": ".py",
   "mimetype": "text/x-python",
   "name": "python",
   "nbconvert_exporter": "python",
   "pygments_lexer": "ipython3",
   "version": "3.12.0"
  }
 },
 "nbformat": 4,
 "nbformat_minor": 2
}
