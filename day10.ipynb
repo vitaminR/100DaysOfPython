{
 "cells": [
  {
   "cell_type": "markdown",
   "metadata": {},
   "source": [
    "Functions with Outputs\n",
    "\n"
   ]
  },
  {
   "cell_type": "code",
   "execution_count": 3,
   "metadata": {},
   "outputs": [
    {
     "name": "stdout",
     "output_type": "stream",
     "text": [
      "Hello Johnathon Aaron!\n"
     ]
    }
   ],
   "source": [
    "#Functions with Outputs\n",
    "\n",
    "fn = input(\"whats your first name? \\n:\")\n",
    "ln = input(\"whats your last name? \\n:\")\n",
    "\n",
    "def format_name(f_name,l_name):\n",
    "    f_f_name = f_name.title()\n",
    "    f_l_name = l_name.title()\n",
    "    return(f\"Hello {f_f_name} {f_l_name}!\")\n",
    "   \n",
    "\n",
    "\n",
    "print(format_name(f_name = fn,l_name = ln))"
   ]
  },
  {
   "cell_type": "code",
   "execution_count": 5,
   "metadata": {},
   "outputs": [
    {
     "name": "stdout",
     "output_type": "stream",
     "text": [
      "29\n"
     ]
    }
   ],
   "source": [
    "def is_leap(year):\n",
    "  if year % 4 == 0:\n",
    "    if year % 100 == 0:\n",
    "      if year % 400 == 0:\n",
    "        return True\n",
    "      else:\n",
    "        return False\n",
    "    else:\n",
    "      return True\n",
    "  else:\n",
    "    return False\n",
    "  \n",
    "# TODO: Add more code here 👇\n",
    "def days_in_month(year, month):\n",
    "  month_days = [31, 28, 31, 30, 31, 30, 31, 31, 30, 31, 30, 31] \n",
    "  if is_leap(year):\n",
    "    if month == 2:\n",
    "      return month_days[month -1] + 1\n",
    "    else:\n",
    "      return month_days[month -1]\n",
    "  else:\n",
    "    return month_days[month -1]\n",
    "\n",
    "\n",
    "print(days_in_month(year=2024, month=2))\n",
    "  \n",
    "#🚨 Do NOT change any of the code below \n",
    "#year = int(input()) # Enter a year\n",
    "#month = int(input()) # Enter a month\n",
    "#days = days_in_month(year, month)\n",
    "#print(days)\n",
    "\n"
   ]
  },
  {
   "cell_type": "code",
   "execution_count": null,
   "metadata": {},
   "outputs": [],
   "source": []
  }
 ],
 "metadata": {
  "kernelspec": {
   "display_name": "Python 3",
   "language": "python",
   "name": "python3"
  },
  "language_info": {
   "codemirror_mode": {
    "name": "ipython",
    "version": 3
   },
   "file_extension": ".py",
   "mimetype": "text/x-python",
   "name": "python",
   "nbconvert_exporter": "python",
   "pygments_lexer": "ipython3",
   "version": "3.12.0"
  }
 },
 "nbformat": 4,
 "nbformat_minor": 2
}
