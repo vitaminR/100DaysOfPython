{
 "cells": [
  {
   "cell_type": "markdown",
   "metadata": {},
   "source": [
    "Capstone 1 BlackJack\n",
    "\n"
   ]
  },
  {
   "cell_type": "code",
   "execution_count": 2,
   "metadata": {},
   "outputs": [
    {
     "name": "stdout",
     "output_type": "stream",
     "text": [
      "shuffling deck\n",
      "Dealing cards\n",
      "\n",
      "Dealer X X\n",
      "\n",
      "You: 7 10 \n",
      "\n",
      "Dealer has blackjack.\n",
      "Make your bets.\n",
      "\n",
      "All bets are in.\n",
      "\n",
      "Dealer X X\n",
      "\n",
      "You: 7 10 \n",
      "\n",
      "Hit or stay?\n",
      " type 'h' or 's'\n"
     ]
    }
   ],
   "source": [
    "#BlackJack\n",
    "\n",
    "\n",
    "def deal_card():\n",
    "    \"\"\"Returns a random card from the deck\"\"\"\n",
    "    import random\n",
    "    cards = [11,2,3,4,5,6,7,8,9,10,10,10,10]\n",
    "    card = random.choice(cards)\n",
    "    return card\n",
    "\n",
    "def calculate_score(cards_to_count):\n",
    "    if dealer_cards[0] + dealer_cards[1] == 21:\n",
    "        return 0\n",
    "    else:\n",
    "        total = 0\n",
    "        for card in cards_to_count:\n",
    "            if total < 21 and card != 11:\n",
    "                total += card \n",
    "            if card == 11 and total :\n",
    "                \n",
    "        return \n",
    "\n",
    "betting_enabled = False\n",
    "player_cards = []\n",
    "dealer_cards = []\n",
    "\n",
    "if input(\"would you like to play blackjack? \\n y/n\") == \"y\":\n",
    "    keep_playing = True\n",
    "else:\n",
    "    print(\"suit yourself\")\n",
    "\n",
    "while keep_playing:\n",
    "    print(\"shuffling deck\")\n",
    "    print(\"Dealing cards\\n\")\n",
    "    p_c1 = deal_card()\n",
    "    p_c2 = deal_card()\n",
    "    d_c1 = deal_card()\n",
    "    d_c2 = deal_card()\n",
    "\n",
    "    print(\"Dealer X X\\n\")\n",
    "    print(f\"You: {p_c1} {p_c2} \\n\")\n",
    "    if dealer_score == 21:\n",
    "        print(\"Dealer has blackjack.\")\n",
    "        keep_playing = False\n",
    "        break\n",
    "    if betting_enabled:\n",
    "        print(\"Make your bets.\\n\")\n",
    "        print(\"All bets are in.\\n\")\n",
    "    \n",
    "    print(\"Dealer X X\\n\")\n",
    "    print(f\"You: {p_c1} {p_c2} \\n\")\n",
    "    print(\"Hit or stay?\\n type 'h' or 's'\")\n",
    "    \n"
   ]
  }
 ],
 "metadata": {
  "kernelspec": {
   "display_name": "Python 3",
   "language": "python",
   "name": "python3"
  },
  "language_info": {
   "codemirror_mode": {
    "name": "ipython",
    "version": 3
   },
   "file_extension": ".py",
   "mimetype": "text/x-python",
   "name": "python",
   "nbconvert_exporter": "python",
   "pygments_lexer": "ipython3",
   "version": "3.12.0"
  }
 },
 "nbformat": 4,
 "nbformat_minor": 2
}
