{
 "cells": [
  {
   "cell_type": "markdown",
   "metadata": {},
   "source": [
    "Day 12 Scope\n",
    "\n",
    "\n"
   ]
  },
  {
   "cell_type": "code",
   "execution_count": 1,
   "metadata": {},
   "outputs": [
    {
     "name": "stderr",
     "output_type": "stream",
     "text": [
      "<>:3: SyntaxWarning: invalid escape sequence '\\_'\n",
      "<>:3: SyntaxWarning: invalid escape sequence '\\_'\n",
      "C:\\Users\\nymil\\AppData\\Local\\Temp\\ipykernel_17120\\2860643471.py:3: SyntaxWarning: invalid escape sequence '\\_'\n",
      "  logo = \"\"\"\n"
     ]
    },
    {
     "name": "stdout",
     "output_type": "stream",
     "text": [
      "\n",
      "  / _ \\_   _  ___  ___ ___  /__   \\ |__   ___    /\\ \\ \\_   _ _ __ ___ | |__   ___ _ __ \n",
      " / /_\\/ | | |/ _ \\/ __/ __|   / /\\/ '_ \\ / _ \\  /  \\/ / | | | '_ ` _ \\| '_ \\ / _ \\ '__|\n",
      "/ /_\\| |_| |  __/\\__ \\__ \\  / /  | | | |  __/ / /\\  /| |_| | | | | | | |_) |  __/ |   \n",
      "\\____/ \\__,_|\\___||___/___/  \\/   |_| |_|\\___| \\_\\ \\/  \\__,_|_| |_| |_|_.__/ \\___|_|  \n",
      "\n",
      "Welcome to the Number Guessing Game!\n",
      "I'm thinking of a number between 1 and 100.\n",
      "Pssst, the correct answer is 83\n",
      "You have 10 attempts remaining to guess the number.\n",
      "Too low.\n",
      "Guess again.\n",
      "You have 9 attempts remaining to guess the number.\n",
      "Too low.\n",
      "Guess again.\n",
      "You have 8 attempts remaining to guess the number.\n",
      "Too low.\n",
      "Guess again.\n",
      "You have 7 attempts remaining to guess the number.\n",
      "You got it! The answer was 83.\n"
     ]
    }
   ],
   "source": [
    "from random import randint\n",
    "\n",
    "logo = \"\"\"\n",
    "  / _ \\_   _  ___  ___ ___  /__   \\ |__   ___    /\\ \\ \\_   _ _ __ ___ | |__   ___ _ __ \n",
    " / /_\\/ | | |/ _ \\/ __/ __|   / /\\/ '_ \\ / _ \\  /  \\/ / | | | '_ ` _ \\| '_ \\ / _ \\ '__|\n",
    "/ /_\\\\| |_| |  __/\\__ \\__ \\  / /  | | | |  __/ / /\\  /| |_| | | | | | | |_) |  __/ |   \n",
    "\\____/ \\__,_|\\___||___/___/  \\/   |_| |_|\\___| \\_\\ \\/  \\__,_|_| |_| |_|_.__/ \\___|_|  \n",
    "\"\"\"\n",
    "\n",
    "EASY_LEVEL_TURNS = 10\n",
    "HARD_LEVEL_TURNS = 5\n",
    "\n",
    "#Function to check user's guess against actual answer.\n",
    "def check_answer(guess, answer, turns):\n",
    "  \"\"\"checks answer against guess. Returns the number of turns remaining.\"\"\"\n",
    "  if guess > answer:\n",
    "    print(\"Too high.\")\n",
    "    return turns - 1\n",
    "  elif guess < answer:\n",
    "    print(\"Too low.\")\n",
    "    return turns - 1\n",
    "  else:\n",
    "    print(f\"You got it! The answer was {answer}.\")\n",
    "\n",
    "#Make function to set difficulty.\n",
    "def set_difficulty():\n",
    "  level = input(\"Choose a difficulty. Type 'easy' or 'hard': \")\n",
    "  if level == \"easy\":\n",
    "    return EASY_LEVEL_TURNS\n",
    "  else:\n",
    "    return HARD_LEVEL_TURNS\n",
    "\n",
    "def game():\n",
    "  print(logo)\n",
    "  #Choosing a random number between 1 and 100.\n",
    "  print(\"Welcome to the Number Guessing Game!\")\n",
    "  print(\"I'm thinking of a number between 1 and 100.\")\n",
    "  answer = randint(1, 100)\n",
    "  print(f\"Pssst, the correct answer is {answer}\") \n",
    "\n",
    "  turns = set_difficulty()\n",
    "  #Repeat the guessing functionality if they get it wrong.\n",
    "  guess = 0\n",
    "  while guess != answer:\n",
    "    print(f\"You have {turns} attempts remaining to guess the number.\")\n",
    "\n",
    "    #Let the user guess a number.\n",
    "    guess = int(input(\"Make a guess: \"))\n",
    "\n",
    "    #Track the number of turns and reduce by 1 if they get it wrong.\n",
    "    turns = check_answer(guess, answer, turns)\n",
    "    if turns == 0:\n",
    "      print(\"You've run out of guesses, you lose.\")\n",
    "      return\n",
    "    elif guess != answer:\n",
    "      print(\"Guess again.\")\n",
    "\n",
    "\n",
    "game()\n",
    "\n"
   ]
  }
 ],
 "metadata": {
  "kernelspec": {
   "display_name": "Python 3",
   "language": "python",
   "name": "python3"
  },
  "language_info": {
   "codemirror_mode": {
    "name": "ipython",
    "version": 3
   },
   "file_extension": ".py",
   "mimetype": "text/x-python",
   "name": "python",
   "nbconvert_exporter": "python",
   "pygments_lexer": "ipython3",
   "version": "3.12.0"
  }
 },
 "nbformat": 4,
 "nbformat_minor": 2
}
